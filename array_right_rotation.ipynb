{
 "cells": [
  {
   "cell_type": "code",
   "execution_count": 208,
   "id": "4f7344f9",
   "metadata": {},
   "outputs": [
    {
     "name": "stdout",
     "output_type": "stream",
     "text": [
      "[6, 1, 2, 3, 4, 5]\n"
     ]
    }
   ],
   "source": [
    "def fn(a):\n",
    "    t = a[-1]\n",
    "    \n",
    "    for i in range(len(a)-1,-1,-1):\n",
    "        a[i] = a[i-1]\n",
    "        \n",
    "    a[0] = t\n",
    "    \n",
    "    return a\n",
    "    \n",
    "    \n",
    "a = [1,2,3,4,5,6]\n",
    "print(fn(a))"
   ]
  }
 ],
 "metadata": {
  "kernelspec": {
   "display_name": "Python 3 (ipykernel)",
   "language": "python",
   "name": "python3"
  },
  "language_info": {
   "codemirror_mode": {
    "name": "ipython",
    "version": 3
   },
   "file_extension": ".py",
   "mimetype": "text/x-python",
   "name": "python",
   "nbconvert_exporter": "python",
   "pygments_lexer": "ipython3",
   "version": "3.9.13"
  }
 },
 "nbformat": 4,
 "nbformat_minor": 5
}
