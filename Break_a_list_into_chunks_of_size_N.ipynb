{
 "cells": [
  {
   "cell_type": "code",
   "execution_count": 106,
   "id": "da024bb1",
   "metadata": {},
   "outputs": [
    {
     "name": "stdout",
     "output_type": "stream",
     "text": [
      "[1, 2, 3, 4, 5]\n",
      "[6, 7, 8, 9]\n"
     ]
    }
   ],
   "source": [
    "def fn(a,s,e,st):\n",
    "    for i in range(s,e,st):\n",
    "        b = a[i:i+st]\n",
    "        print(b)\n",
    "    \n",
    "    \n",
    "a = [1, 2, 3, 4, 5, 6, 7, 8, 9]\n",
    "s = 0\n",
    "e = len(a)\n",
    "st = 5\n",
    "\n",
    "fn(a,s,e,st)"
   ]
  },
  {
   "cell_type": "code",
   "execution_count": null,
   "id": "2abdfbac",
   "metadata": {},
   "outputs": [],
   "source": []
  }
 ],
 "metadata": {
  "kernelspec": {
   "display_name": "Python 3 (ipykernel)",
   "language": "python",
   "name": "python3"
  },
  "language_info": {
   "codemirror_mode": {
    "name": "ipython",
    "version": 3
   },
   "file_extension": ".py",
   "mimetype": "text/x-python",
   "name": "python",
   "nbconvert_exporter": "python",
   "pygments_lexer": "ipython3",
   "version": "3.9.13"
  }
 },
 "nbformat": 4,
 "nbformat_minor": 5
}
